{
 "cells": [
  {
   "cell_type": "code",
   "execution_count": 228,
   "id": "d6ed9832",
   "metadata": {},
   "outputs": [],
   "source": [
    "from keras.models import Sequential\n",
    "from keras.layers import Dense, Activation, Conv2D, MaxPooling2D, Flatten, Dropout, BatchNormalization\n",
    "from keras.utils import to_categorical\n",
    "from keras.preprocessing.image import ImageDataGenerator\n",
    "from keras.optimizers import Adam,RMSprop\n",
    "import matplotlib.pyplot as plt\n",
    "import numpy as np\n",
    "import pandas as pd\n",
    "import warnings\n",
    "warnings.filterwarnings(\"ignore\")"
   ]
  },
  {
   "cell_type": "code",
   "execution_count": 229,
   "id": "a8983d5b",
   "metadata": {},
   "outputs": [],
   "source": [
    "# load and process\n",
    "def load_and_preprocess(data_path):\n",
    "    data = pd.read_csv(data_path)\n",
    "    data = data.values \n",
    "    np.random.shuffle(data)\n",
    "    x = data[:,1:].reshape(-1,28,28,1)/255.0  \n",
    "    y = data[:,0].astype(np.int32) \n",
    "    y = to_categorical(y, num_classes=len(set(y))) \n",
    "    \n",
    "    return x,y"
   ]
  },
  {
   "cell_type": "code",
   "execution_count": 230,
   "id": "146b5ade",
   "metadata": {},
   "outputs": [],
   "source": [
    "train_data_path = \"C:/Users/Casper/Downloads/Fashiondataset/fashion-mnist_train.csv\"\n",
    "test_data_path =\"C:/Users/Casper/Downloads/Fashiondataset/fashion-mnist_test.csv\""
   ]
  },
  {
   "cell_type": "code",
   "execution_count": 231,
   "id": "239c571e",
   "metadata": {},
   "outputs": [],
   "source": [
    "x_train, y_train = load_and_preprocess(train_data_path)\n",
    "x_test, y_test = load_and_preprocess(test_data_path)"
   ]
  },
  {
   "cell_type": "code",
   "execution_count": 232,
   "id": "0d5e3874",
   "metadata": {},
   "outputs": [
    {
     "data": {
      "image/png": "[encoded data removed]",
      "text/plain": [
       "<Figure size 432x288 with 1 Axes>"
      ]
     },
     "metadata": {
      "needs_background": "light"
     },
     "output_type": "display_data"
    },
    {
     "name": "stdout",
     "output_type": "stream",
     "text": [
      "0\n"
     ]
    }
   ],
   "source": [
    "index = 3 \n",
    "vis = x_train.reshape(60000,28,28) \n",
    "plt.imshow(vis[index,:,:])\n",
    "plt.legend\n",
    "plt.axis(\"off\")\n",
    "plt.show()\n",
    "print(np.argmax(y_train[index]))"
   ]
  },
  {
   "cell_type": "code",
   "execution_count": 233,
   "id": "10c78d7c",
   "metadata": {},
   "outputs": [],
   "source": [
    "numberOfClass = y_train.shape[1]\n",
    "\n",
    "model = Sequential()\n",
    "\n",
    "model.add(Conv2D(input_shape =(28,28,1),filters =16, padding=\"Same\",kernel_size=(3,3)))\n",
    "model.add(BatchNormalization())\n",
    "model.add(Activation(\"relu\"))\n",
    "model.add(MaxPooling2D(pool_size=(2,2)))\n",
    "model.add(Dropout(0.1))\n",
    "\n",
    "\n",
    "model.add(Conv2D(filters=32,padding=\"Same\",kernel_size = (3,3)))\n",
    "model.add(BatchNormalization())\n",
    "model.add(Activation(\"relu\")) \n",
    "model.add(MaxPooling2D(pool_size=(2,2)))\n",
    "model.add(Dropout(0.1))\n",
    "\n",
    "\n",
    "model.add(Conv2D(filters=64,padding=\"Same\",kernel_size = (3,3)))\n",
    "model.add(BatchNormalization())\n",
    "model.add(Activation(\"relu\")) \n",
    "model.add(MaxPooling2D(pool_size=(2,2)))\n",
    "model.add(Dropout(0.1))\n",
    "\n",
    "\n",
    "model.add(Flatten())\n",
    "model.add(Dense(units = 784)) \n",
    "model.add(Activation(\"relu\"))\n",
    "model.add(Dropout(0.25))\n",
    "model.add(Dense(units= numberOfClass)) \n",
    "model.add(Activation(\"softmax\"))\n",
    "\n",
    "\n",
    "model.compile(loss = \"categorical_crossentropy\",\n",
    "              optimizer = \"adam\",\n",
    "              metrics = [\"accuracy\"])"
   ]
  },
  {
   "cell_type": "code",
   "execution_count": 234,
   "id": "467cd068",
   "metadata": {},
   "outputs": [],
   "source": [
    "# Adam optimizer\n",
    "optimizer = Adam(learning_rate= 0.001, beta_1 = 0.9, beta_2= 0.999)"
   ]
  },
  {
   "cell_type": "code",
   "execution_count": 235,
   "id": "507208cb",
   "metadata": {},
   "outputs": [],
   "source": [
    "model.compile( optimizer=optimizer, loss=\"categorical_crossentropy\", metrics=[\"accuracy\"])"
   ]
  },
  {
   "cell_type": "code",
   "execution_count": 236,
   "id": "de4ae291",
   "metadata": {},
   "outputs": [],
   "source": [
    "# Data augmentation\n",
    "datagen = ImageDataGenerator(\n",
    "        featurewise_center=False, \n",
    "        samplewise_center=False,\n",
    "        featurewise_std_normalization=False,\n",
    "        samplewise_std_normalization=False,  \n",
    "        zca_whitening=False,  \n",
    "        rotation_range=5, \n",
    "        zoom_range = 0.1, \n",
    "        width_shift_range=0.1,  \n",
    "        height_shift_range=0.1, \n",
    "        horizontal_flip=False,  \n",
    "        vertical_flip=False) \n",
    "\n",
    "datagen.fit(x_train)"
   ]
  },
  {
   "cell_type": "code",
   "execution_count": 237,
   "id": "9eb72960",
   "metadata": {},
   "outputs": [
    {
     "name": "stdout",
     "output_type": "stream",
     "text": [
      "Epoch 1/50\n",
      "20/20 [==============================] - 2s 78ms/step - loss: 1.2620 - accuracy: 0.5735 - val_loss: 2.1472 - val_accuracy: 0.4814\n",
      "Epoch 2/50\n",
      "20/20 [==============================] - 1s 70ms/step - loss: 0.6420 - accuracy: 0.7595 - val_loss: 2.1637 - val_accuracy: 0.1774\n",
      "Epoch 3/50\n",
      "20/20 [==============================] - 1s 70ms/step - loss: 0.5366 - accuracy: 0.8009 - val_loss: 2.2235 - val_accuracy: 0.1815\n",
      "Epoch 4/50\n",
      "20/20 [==============================] - 1s 71ms/step - loss: 0.4778 - accuracy: 0.8264 - val_loss: 2.2802 - val_accuracy: 0.1781\n",
      "Epoch 5/50\n",
      "20/20 [==============================] - 1s 70ms/step - loss: 0.4431 - accuracy: 0.8388 - val_loss: 2.3256 - val_accuracy: 0.1605\n",
      "Epoch 6/50\n",
      "20/20 [==============================] - 1s 70ms/step - loss: 0.4120 - accuracy: 0.8493 - val_loss: 2.3998 - val_accuracy: 0.2402\n",
      "Epoch 7/50\n",
      "20/20 [==============================] - 1s 70ms/step - loss: 0.3915 - accuracy: 0.8567 - val_loss: 2.4333 - val_accuracy: 0.2296\n",
      "Epoch 8/50\n",
      "20/20 [==============================] - 1s 70ms/step - loss: 0.3753 - accuracy: 0.8616 - val_loss: 2.4063 - val_accuracy: 0.2699\n",
      "Epoch 9/50\n",
      "20/20 [==============================] - 1s 71ms/step - loss: 0.3632 - accuracy: 0.8669 - val_loss: 2.2789 - val_accuracy: 0.3992\n",
      "Epoch 10/50\n",
      "20/20 [==============================] - 1s 70ms/step - loss: 0.3501 - accuracy: 0.8717 - val_loss: 2.3344 - val_accuracy: 0.3752\n",
      "Epoch 11/50\n",
      "20/20 [==============================] - 1s 70ms/step - loss: 0.3373 - accuracy: 0.8762 - val_loss: 2.2844 - val_accuracy: 0.4054\n",
      "Epoch 12/50\n",
      "20/20 [==============================] - 1s 70ms/step - loss: 0.3298 - accuracy: 0.8792 - val_loss: 2.0846 - val_accuracy: 0.4369\n",
      "Epoch 13/50\n",
      "20/20 [==============================] - 1s 71ms/step - loss: 0.3191 - accuracy: 0.8830 - val_loss: 2.0057 - val_accuracy: 0.4558\n",
      "Epoch 14/50\n",
      "20/20 [==============================] - 1s 72ms/step - loss: 0.3122 - accuracy: 0.8856 - val_loss: 1.8317 - val_accuracy: 0.4827\n",
      "Epoch 15/50\n",
      "20/20 [==============================] - 1s 71ms/step - loss: 0.3045 - accuracy: 0.8876 - val_loss: 1.6571 - val_accuracy: 0.5275\n",
      "Epoch 16/50\n",
      "20/20 [==============================] - 1s 72ms/step - loss: 0.3006 - accuracy: 0.8897 - val_loss: 1.3505 - val_accuracy: 0.5801\n",
      "Epoch 17/50\n",
      "20/20 [==============================] - 1s 71ms/step - loss: 0.2941 - accuracy: 0.8916 - val_loss: 1.2018 - val_accuracy: 0.6067\n",
      "Epoch 18/50\n",
      "20/20 [==============================] - 1s 70ms/step - loss: 0.2869 - accuracy: 0.8954 - val_loss: 1.1600 - val_accuracy: 0.6146\n",
      "Epoch 19/50\n",
      "20/20 [==============================] - 1s 70ms/step - loss: 0.2820 - accuracy: 0.8969 - val_loss: 0.9737 - val_accuracy: 0.6564\n",
      "Epoch 20/50\n",
      "20/20 [==============================] - 1s 71ms/step - loss: 0.2803 - accuracy: 0.8961 - val_loss: 0.9896 - val_accuracy: 0.6504\n",
      "Epoch 21/50\n",
      "20/20 [==============================] - 1s 71ms/step - loss: 0.2756 - accuracy: 0.8988 - val_loss: 0.8069 - val_accuracy: 0.7075\n",
      "Epoch 22/50\n",
      "20/20 [==============================] - 1s 71ms/step - loss: 0.2679 - accuracy: 0.9022 - val_loss: 0.6037 - val_accuracy: 0.7781\n",
      "Epoch 23/50\n",
      "20/20 [==============================] - 1s 71ms/step - loss: 0.2680 - accuracy: 0.9016 - val_loss: 0.5413 - val_accuracy: 0.7960\n",
      "Epoch 24/50\n",
      "20/20 [==============================] - 1s 71ms/step - loss: 0.2613 - accuracy: 0.9039 - val_loss: 0.4764 - val_accuracy: 0.8155\n",
      "Epoch 25/50\n",
      "20/20 [==============================] - 1s 71ms/step - loss: 0.2556 - accuracy: 0.9058 - val_loss: 0.4120 - val_accuracy: 0.8442\n",
      "Epoch 26/50\n",
      "20/20 [==============================] - 1s 71ms/step - loss: 0.2534 - accuracy: 0.9053 - val_loss: 0.4271 - val_accuracy: 0.8387\n",
      "Epoch 27/50\n",
      "20/20 [==============================] - 1s 71ms/step - loss: 0.2490 - accuracy: 0.9076 - val_loss: 0.3883 - val_accuracy: 0.8535\n",
      "Epoch 28/50\n",
      "20/20 [==============================] - 1s 71ms/step - loss: 0.2473 - accuracy: 0.9085 - val_loss: 0.3897 - val_accuracy: 0.8506\n",
      "Epoch 29/50\n",
      "20/20 [==============================] - 1s 71ms/step - loss: 0.2449 - accuracy: 0.9097 - val_loss: 0.3099 - val_accuracy: 0.8851\n",
      "Epoch 30/50\n",
      "20/20 [==============================] - 1s 71ms/step - loss: 0.2382 - accuracy: 0.9113 - val_loss: 0.3126 - val_accuracy: 0.8842\n",
      "Epoch 31/50\n",
      "20/20 [==============================] - 1s 71ms/step - loss: 0.2370 - accuracy: 0.9127 - val_loss: 0.2672 - val_accuracy: 0.9020\n",
      "Epoch 32/50\n",
      "20/20 [==============================] - 1s 70ms/step - loss: 0.2326 - accuracy: 0.9140 - val_loss: 0.2607 - val_accuracy: 0.9028\n",
      "Epoch 33/50\n",
      "20/20 [==============================] - 1s 72ms/step - loss: 0.2302 - accuracy: 0.9149 - val_loss: 0.2512 - val_accuracy: 0.9080\n",
      "Epoch 34/50\n",
      "20/20 [==============================] - 1s 71ms/step - loss: 0.2279 - accuracy: 0.9157 - val_loss: 0.2915 - val_accuracy: 0.8927\n",
      "Epoch 35/50\n",
      "20/20 [==============================] - 1s 71ms/step - loss: 0.2245 - accuracy: 0.9159 - val_loss: 0.2295 - val_accuracy: 0.9175\n",
      "Epoch 36/50\n",
      "20/20 [==============================] - 1s 70ms/step - loss: 0.2214 - accuracy: 0.9181 - val_loss: 0.2374 - val_accuracy: 0.9153\n",
      "Epoch 37/50\n",
      "20/20 [==============================] - 1s 71ms/step - loss: 0.2228 - accuracy: 0.9178 - val_loss: 0.2388 - val_accuracy: 0.9129\n",
      "Epoch 38/50\n",
      "20/20 [==============================] - 1s 71ms/step - loss: 0.2172 - accuracy: 0.9207 - val_loss: 0.2424 - val_accuracy: 0.9140\n",
      "Epoch 39/50\n",
      "20/20 [==============================] - 1s 70ms/step - loss: 0.2133 - accuracy: 0.9209 - val_loss: 0.2256 - val_accuracy: 0.9195\n",
      "Epoch 40/50\n",
      "20/20 [==============================] - 1s 70ms/step - loss: 0.2155 - accuracy: 0.9199 - val_loss: 0.2232 - val_accuracy: 0.9204\n",
      "Epoch 41/50\n",
      "20/20 [==============================] - 1s 71ms/step - loss: 0.2112 - accuracy: 0.9220 - val_loss: 0.2259 - val_accuracy: 0.9190\n",
      "Epoch 42/50\n",
      "20/20 [==============================] - 1s 70ms/step - loss: 0.2095 - accuracy: 0.9224 - val_loss: 0.2338 - val_accuracy: 0.9160\n",
      "Epoch 43/50\n",
      "20/20 [==============================] - 1s 71ms/step - loss: 0.2049 - accuracy: 0.9241 - val_loss: 0.2153 - val_accuracy: 0.9227\n",
      "Epoch 44/50\n",
      "20/20 [==============================] - 1s 71ms/step - loss: 0.2031 - accuracy: 0.9244 - val_loss: 0.2198 - val_accuracy: 0.9212\n",
      "Epoch 45/50\n",
      "20/20 [==============================] - 1s 70ms/step - loss: 0.1996 - accuracy: 0.9266 - val_loss: 0.2248 - val_accuracy: 0.9177\n",
      "Epoch 46/50\n",
      "20/20 [==============================] - 1s 71ms/step - loss: 0.1995 - accuracy: 0.9261 - val_loss: 0.2097 - val_accuracy: 0.9248\n",
      "Epoch 47/50\n",
      "20/20 [==============================] - 1s 71ms/step - loss: 0.1972 - accuracy: 0.9266 - val_loss: 0.2051 - val_accuracy: 0.9263\n",
      "Epoch 48/50\n",
      "20/20 [==============================] - 1s 71ms/step - loss: 0.1962 - accuracy: 0.9283 - val_loss: 0.2117 - val_accuracy: 0.9240\n",
      "Epoch 49/50\n",
      "20/20 [==============================] - 1s 71ms/step - loss: 0.1927 - accuracy: 0.9280 - val_loss: 0.2061 - val_accuracy: 0.9273\n",
      "Epoch 50/50\n",
      "20/20 [==============================] - 1s 70ms/step - loss: 0.1913 - accuracy: 0.9301 - val_loss: 0.2032 - val_accuracy: 0.9255\n"
     ]
    }
   ],
   "source": [
    "hist = model.fit(x_train,y_train, validation_data=(x_test,y_test),epochs=50,batch_size=3000)"
   ]
  },
  {
   "cell_type": "code",
   "execution_count": 238,
   "id": "0bf0364b",
   "metadata": {},
   "outputs": [],
   "source": [
    "model.save_weights('fashion_dataset.h5')"
   ]
  },
  {
   "cell_type": "code",
   "execution_count": 239,
   "id": "adc7dd9d",
   "metadata": {},
   "outputs": [
    {
     "name": "stdout",
     "output_type": "stream",
     "text": [
      "dict_keys(['loss', 'accuracy', 'val_loss', 'val_accuracy'])\n"
     ]
    },
    {
     "data": {
      "image/png": "[encoded data removed]",
      "text/plain": [
       "<Figure size 432x288 with 1 Axes>"
      ]
     },
     "metadata": {
      "needs_background": "light"
     },
     "output_type": "display_data"
    },
    {
     "data": {
      "image/png": "[encoded data removed]",
      "text/plain": [
       "<Figure size 432x288 with 1 Axes>"
      ]
     },
     "metadata": {
      "needs_background": "light"
     },
     "output_type": "display_data"
    }
   ],
   "source": [
    "print(hist.history.keys())\n",
    "plt.plot(hist.history[\"loss\"],label=\"Train Loss\")\n",
    "plt.plot(hist.history[\"val_loss\"],label = \"Validation Loss\")\n",
    "plt.legend()\n",
    "plt.show()\n",
    "plt.figure()\n",
    "plt.plot(hist.history[\"accuracy\"],label=\"Train Accuracy\")\n",
    "plt.plot(hist.history[\"val_accuracy\"],label=\"Validation Accuracy\")\n",
    "plt.legend()\n",
    "plt.show()"
   ]
  },
  {
   "cell_type": "code",
   "execution_count": 243,
   "id": "4ce0deeb",
   "metadata": {},
   "outputs": [],
   "source": [
    "#%% save history\n",
    "\n",
    "import json\n",
    "with open(\"fashion_dataset.json\",\"w\") as f:\n",
    "    json.dump(hist.history,f)\n",
    "    "
   ]
  },
  {
   "cell_type": "code",
   "execution_count": 244,
   "id": "e933c58a",
   "metadata": {},
   "outputs": [],
   "source": [
    "#%% load history\n",
    "\n",
    "import codecs \n",
    "with codecs.open(\"fashion_dataset.json\",\"r\",encoding = \"utf-8\") as f:\n",
    "    hs = json.loads(f.read())  "
   ]
  },
  {
   "cell_type": "code",
   "execution_count": 245,
   "id": "e1ac9fd6",
   "metadata": {
    "scrolled": true
   },
   "outputs": [
    {
     "data": {
      "image/png": "[encoded data removed]",
      "text/plain": [
       "<Figure size 432x288 with 1 Axes>"
      ]
     },
     "metadata": {
      "needs_background": "light"
     },
     "output_type": "display_data"
    },
    {
     "data": {
      "image/png": "[encoded data removed]",
      "text/plain": [
       "<Figure size 432x288 with 1 Axes>"
      ]
     },
     "metadata": {
      "needs_background": "light"
     },
     "output_type": "display_data"
    }
   ],
   "source": [
    "plt.figure()\n",
    "plt.plot(hs[\"loss\"],label = \"Train Loss\")\n",
    "plt.plot(hs[\"val_loss\"],label=\"Validation Loss\")\n",
    "plt.legend()\n",
    "plt.show()\n",
    "\n",
    "plt.figure()\n",
    "\n",
    "plt.plot(hs[\"accuracy\"],label=\"Train accuracy\")\n",
    "plt.plot(hs[\"val_accuracy\"],label=\"Validation accuracy\")\n",
    "plt.legend()\n",
    "plt.show()"
   ]
  },
  {
   "cell_type": "markdown",
   "id": "a9deda5a",
   "metadata": {},
   "source": [
    "#### Dataset Kaggle Link\n",
    "\n",
    "https://www.kaggle.com/datasets/zalando-research/fashionmnist"
   ]
  },
  {
   "cell_type": "code",
   "execution_count": null,
   "id": "03a798e9",
   "metadata": {},
   "outputs": [],
   "source": []
  }
 ],
 "metadata": {
  "kernelspec": {
   "display_name": "Python 3 (ipykernel)",
   "language": "python",
   "name": "python3"
  },
  "language_info": {
   "codemirror_mode": {
    "name": "ipython",
    "version": 3
   },
   "file_extension": ".py",
   "mimetype": "text/x-python",
   "name": "python",
   "nbconvert_exporter": "python",
   "pygments_lexer": "ipython3",
   "version": "3.9.12"
  }
 },
 "nbformat": 4,
 "nbformat_minor": 5
}
